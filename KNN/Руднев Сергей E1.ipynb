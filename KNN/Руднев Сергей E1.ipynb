{
 "cells": [
  {
   "cell_type": "markdown",
   "metadata": {},
   "source": [
    "# Большое практическое задание 1\n",
    "# Классификация изображений цифр метрическими методами\n",
    "\n",
    "## курс \"Машинное обучение 1\", программа OzonMasters, 2021\n",
    "\n",
    "## Студент: Руднев Сергей Михайлович"
   ]
  },
  {
   "cell_type": "markdown",
   "metadata": {},
   "source": [
    "## Введение\n",
    "\n",
    "Данное задание направлено на ознакомление с метрическими алгоритмами классификации, а также методами работы с изображениями. В задании вам будет необходимо:\n",
    "\n",
    "1. Написать на языке Python собственные реализации метода ближайших соседей и кросс-валидации. Реализации должны соответствовать спецификации, описанной в прилагающихся модулях.     \n",
    "    Частично проверить правильность выполнения своих реализаций можно с помощью системы ejudge в соответствующем соревновании.\n",
    "    **Внимание.** Прохождение всех тестов в соревновании не гарантирует правильность решения.\n",
    "\n",
    "\n",
    "2. Провести описанные ниже эксперименты с датасетом изображений цифр MNIST, описать полученые результаты и ответить на предложенные вопросы.\n",
    "\n",
    "\n",
    "3. Подготовить отчёт о проделанной работе. Удалите черновые выводы, оставьте только тот код, который является ответом к пунктам задания. Сохраните ноутбук в форматах .ipynb и .html одновременно.\n",
    "\n",
    "    **Замечание.** Чтобы экспорировать jupyter notebook в .html нужно выбрать:\n",
    "    `File -> Download as -> HTML (.html).`\n",
    "    Для экспорта notebook в .html в Google Colab, воспользуйтесь [следующим кодом](https://gist.github.com/vbugaevskii/b9c6181f2ad83e11f5b9c92d315cb2de).\n",
    "Большая просьба: подписывайте свой отчет (в названии файла и внутри ноутбука).\n",
    "\n",
    "\n",
    "4. В систему проверки необходимо сдать отчёт в обоих форматах и .zip архив с написанными модулями.\n",
    "\n",
    "    Большая просьба: jupyter notebook и html файл не запаковывать в архив, а сдавать отдельно."
   ]
  },
  {
   "cell_type": "markdown",
   "metadata": {},
   "source": [
    "### Некоторые полезные советы\n",
    "\n",
    "1. Для того, чтобы не перезагружать jupyter notebook каждый раз после того, как вы внесли изменения в модуль `knn`, можно добавить ячейку с таким содержимым:\n",
    "     \n",
    "```\n",
    "    %load_ext autoreload\n",
    "    \n",
    "    %autoreload 2\n",
    "```\n",
    "   \n",
    "2. Не нужно копировать свой код из модулей в jupyter notebook, пользуйтесь им, как если бы это была библиотека. Для этого поместите директорию `knn` рядом с notebook-ом. Пример, как может выглядеть содержимое вашей рабочей директории:\n",
    "\n",
    "```\n",
    "    tree\n",
    "    ---knn\n",
    "    ------__init__.py\n",
    "    ------classification.py\n",
    "    ------distances.py\n",
    "    ------model_selection.py\n",
    "    ------nearest_neighbors.py\n",
    "    ---tests\n",
    "    ------__init__.py\n",
    "    ------test_classification.py\n",
    "    ------test_distances.py\n",
    "    ------test_model_selection.py\n",
    "    ------test_nearest_neigbours.py\n",
    "    experiments.ipynb\n",
    "```"
   ]
  },
  {
   "cell_type": "markdown",
   "metadata": {},
   "source": [
    "## Реализация алгоритмов (10 баллов)\n",
    "\n",
    "Прототипы функций должны строго соответствовать прототипам, описанным в спецификации и проходить\n",
    "все выданные тесты. Задание, не проходящее все выданные тесты, приравнивается к невыполненному. При\n",
    "написании **необходимо пользоваться** стандартными средствами языка Python и библиотекой numpy. Библиотеками scipy и scikit-learn пользоваться **запрещено**, если это не обговорено отдельно в пункте задания. Для\n",
    "экспериментов в бонусной части разрешается пользоваться любыми открытыми библиотеками, реализующими\n",
    "алгоритмы обработки изображений."
   ]
  },
  {
   "cell_type": "markdown",
   "metadata": {},
   "source": [
    "Среди предоставленных файлов должны быть следующие модули и функции в них\n",
    "\n",
    "1. Модуль `knn.distances` с реализацией функции для вычисления расстояния:\n",
    "    1. `euclidean_distance(X, Y)` — реализация евклидова расстояния с заданными свойствами;\n",
    "    2. `cosine_distance(X, Y)` — реализация косинусного расстояния с заданными свойствами;\n",
    "\n",
    "\n",
    "2. Модуль `knn.nearest_neighbors`, содержащий собственную реализацию поиска ближайших соседей.\n",
    "    \n",
    "    Класс `NearestNeighborsFinder` с методами:\n",
    "      1. `__init__(self, n_neighbors, metric=\"euclidean\")` — конструктор (инициализатор) класса;\n",
    "      2. `fit(self, X, y=None)` — обучение алгоритма;\n",
    "      3. `kneighbors(self, X, return_distance=False)` — поиск ближайших соседей.\n",
    "\n",
    "\n",
    "3. Модуль `knn.classification`, содержащий собственную реализацию классификатора на основе метода ближайших соседей.\n",
    "\n",
    "    Класс `KNNClassifier` с методами:\n",
    "    \n",
    "    1. `__init__(self, n_neighbors, algorithm=’my_own’, metric=’euclidean’, weights=’uniform’)` — конструктор (инициализатор) класса;\n",
    "    2. `fit(self, X, y=None)` — обучение алгоритма;\n",
    "    3. `kneighbors(self, X, return_distance=False)` — поиск ближайших соседей;\n",
    "    4. `predict(self, X)` — редсказание на новых данных;\n",
    "    5. `_predict_precomputed(self, indices, distances)` — вспомогательный метод.\n",
    "    \n",
    "   Класс `BatchedKNNClassifier`, полезный для работы с большими выборками, с методами:\n",
    "   \n",
    "    1. `__init__(self, n_neighbors, algorithm=’my_own’, metric=’euclidean’, weights=’uniform’, batch_size=None)` — конструктор (инициализатор) класса\n",
    "    2. `kneighbors(self, X, return_distance=False)` — поиск ближайших соседей, разбитый на несколько итераций по батчам\n",
    "    3. `set_batch_size(self, batch_size)` — метод для выставления нового значения размера батча\n",
    "\n",
    "\n",
    "4. Модуль `knn.model_selection` с реализациями функций для применения кросс-валидации:\n",
    "\n",
    "    1. `knn_cross_val_score(X, y, k_list, scoring, cv=None, **kwargs)` — функция для измерения качества на кросс-валидации."
   ]
  },
  {
   "cell_type": "markdown",
   "metadata": {},
   "source": [
    "Ожидается, что реализациия всех классов и функций будет максимально эффективной. Дополнительно вам предоставлены открытые unit-тесты, которые находятся рядом с модулем `knn` в директории `tests` Чтобы запустить тесты в консоли требуется выполнить одну из команд:\n",
    "\n",
    "\n",
    "```\n",
    "$ python -m unittest                            # запуск всех тестов\n",
    "$ python -m unittest tests/test_distances.py    # запуск конкретных тестов\n",
    "```"
   ]
  },
  {
   "cell_type": "markdown",
   "metadata": {},
   "source": [
    "## Эксперименты (15 баллов)\n",
    "\n",
    "Здесь вы можете заимпортировать всё, что вам потребуется для экспериментов:"
   ]
  },
  {
   "cell_type": "code",
   "execution_count": 1,
   "metadata": {},
   "outputs": [],
   "source": [
    "import numpy as np\n",
    "import matplotlib.pyplot as plt\n",
    "import pandas as pd\n",
    "\n",
    "from knn.distances import euclidean_distance, cosine_distance \n",
    "from knn.classification import BatchedKNNClassifier\n",
    "from knn.model_selection import knn_cross_val_score\n",
    "\n",
    "from sklearn.datasets import fetch_openml\n",
    "from sklearn.model_selection import train_test_split\n",
    "from sklearn.model_selection import KFold\n",
    "from sklearn.metrics import accuracy_score\n",
    "from sklearn.metrics import confusion_matrix"
   ]
  },
  {
   "cell_type": "markdown",
   "metadata": {},
   "source": [
    "### 1. Загрузка даннных\n",
    "\n",
    "Эксперименты этого задания необходимо проводить на датасете MNIST. Загрузить датасет можно при помощи функции `sklearn.datasets.fetch_openml(\"mnist_784\")` или скачать вручную с сайта\n",
    "http://yann.lecun.com/exdb/mnist/. Датасет необходимо разбить на обучающую выборку (первые 60 тыс.\n",
    "объектов) и тестовую выборку (10 тыс. последних объектов)."
   ]
  },
  {
   "cell_type": "code",
   "execution_count": 2,
   "metadata": {},
   "outputs": [],
   "source": [
    "X, y = fetch_openml(\"mnist_784\", version=1, return_X_y=True)"
   ]
  },
  {
   "cell_type": "code",
   "execution_count": 3,
   "metadata": {},
   "outputs": [],
   "source": [
    "X = np.asarray(X, dtype=np.uint8)\n",
    "y = np.asarray(y, dtype=np.uint8)"
   ]
  },
  {
   "cell_type": "code",
   "execution_count": 4,
   "metadata": {},
   "outputs": [],
   "source": [
    "X_train, X_test, y_train, y_test = train_test_split(X, y, test_size=1/7, shuffle=False)"
   ]
  },
  {
   "cell_type": "code",
   "execution_count": 5,
   "metadata": {},
   "outputs": [],
   "source": [
    "del X\n",
    "del y"
   ]
  },
  {
   "cell_type": "markdown",
   "metadata": {},
   "source": [
    "### 2. Исследование скорости методов поиска (4 балла)\n",
    "\n",
    "Исследуйте, какой алгоритм поиска ближайших соседей будет быстрее работать в различных ситуациях.\n",
    "\n",
    "Измерьте для каждого алгоритма поиска (`kd_tree`, `ball_tree`, `brute` и `my_own`) время нахождения 5 ближайших соседей для каждого объекта тестовой выборки по евклидовой метрике. Выберите подмножество признаков, по которому будет считаться расстояние, размера 10, 20, 100 (подмножество признаков выбирается один раз для всех объектов, случайно).\n",
    "\n",
    "**Замечание.** Для оценки времени долго работающих функций можно пользоваться либо функциями из\n",
    "модуля time, либо magic-командой %time, которая запускает код лишь один раз."
   ]
  },
  {
   "cell_type": "code",
   "execution_count": 5,
   "metadata": {},
   "outputs": [],
   "source": [
    "features_numbers = np.random.randint(0, X_train.shape[1], size = 10)\n",
    "X_train_for_time_analysis = X_train[:,features_numbers]\n",
    "X_test_for_time_analysis = X_test[:,features_numbers]"
   ]
  },
  {
   "cell_type": "code",
   "execution_count": 6,
   "metadata": {
    "scrolled": true
   },
   "outputs": [
    {
     "name": "stdout",
     "output_type": "stream",
     "text": [
      "Wall time: 3.72 s\n",
      "Wall time: 8.33 s\n",
      "Wall time: 15.1 s\n"
     ]
    },
    {
     "name": "stderr",
     "output_type": "stream",
     "text": [
      "C:\\Users\\home-pc\\Desktop\\Ozon Masters\\1 сем\\ML-1\\дз\\E\\KNN\\knn\\distances.py:10: RuntimeWarning: invalid value encountered in sqrt\n",
      "  return np.sqrt(u + v - 2*(x @ y.T))  # вычитаем попарные скалярные произведения векторов из x и векторов из y\n"
     ]
    },
    {
     "name": "stdout",
     "output_type": "stream",
     "text": [
      "Wall time: 6min 33s\n"
     ]
    }
   ],
   "source": [
    "for i in ['kd_tree', 'ball_tree', 'brute', 'my_own']:\n",
    "    alg = BatchedKNNClassifier(n_neighbors=5, algorithm=i, metric='euclidean', weights='uniform')\n",
    "    alg.fit(X_train_for_time_analysis, y_train)\n",
    "    %time distances, indices = alg.kneighbors(X_test_for_time_analysis, return_distance=True)"
   ]
  },
  {
   "cell_type": "code",
   "execution_count": 7,
   "metadata": {},
   "outputs": [],
   "source": [
    "features_numbers = np.random.randint(0, X_train.shape[1], size = 20)\n",
    "X_train_for_time_analysis = X_train[:,features_numbers]\n",
    "X_test_for_time_analysis = X_test[:,features_numbers]"
   ]
  },
  {
   "cell_type": "code",
   "execution_count": 8,
   "metadata": {},
   "outputs": [
    {
     "name": "stdout",
     "output_type": "stream",
     "text": [
      "Wall time: 9.94 s\n",
      "Wall time: 28.7 s\n",
      "Wall time: 14.6 s\n"
     ]
    },
    {
     "name": "stderr",
     "output_type": "stream",
     "text": [
      "C:\\Users\\home-pc\\Desktop\\Ozon Masters\\1 сем\\ML-1\\дз\\E\\KNN\\knn\\distances.py:10: RuntimeWarning: invalid value encountered in sqrt\n",
      "  return np.sqrt(u + v - 2*(x @ y.T))  # вычитаем попарные скалярные произведения векторов из x и векторов из y\n"
     ]
    },
    {
     "name": "stdout",
     "output_type": "stream",
     "text": [
      "Wall time: 8min 44s\n"
     ]
    }
   ],
   "source": [
    "for i in ['kd_tree', 'ball_tree', 'brute', 'my_own']:\n",
    "    alg = BatchedKNNClassifier(n_neighbors=5, algorithm=i, metric='euclidean', weights='uniform')\n",
    "    alg.fit(X_train_for_time_analysis, y_train)\n",
    "    %time distances, indices = alg.kneighbors(X_test_for_time_analysis, return_distance=True)"
   ]
  },
  {
   "cell_type": "code",
   "execution_count": 9,
   "metadata": {},
   "outputs": [],
   "source": [
    "features_numbers = np.random.randint(0, X_train.shape[1], size = 100)\n",
    "X_train_for_time_analysis = X_train[:,features_numbers]\n",
    "X_test_for_time_analysis = X_test[:,features_numbers]"
   ]
  },
  {
   "cell_type": "code",
   "execution_count": 10,
   "metadata": {},
   "outputs": [
    {
     "name": "stdout",
     "output_type": "stream",
     "text": [
      "Wall time: 2min 13s\n",
      "Wall time: 2min 35s\n",
      "Wall time: 16.9 s\n"
     ]
    },
    {
     "name": "stderr",
     "output_type": "stream",
     "text": [
      "C:\\Users\\home-pc\\Desktop\\Ozon Masters\\1 сем\\ML-1\\дз\\E\\KNN\\knn\\distances.py:10: RuntimeWarning: invalid value encountered in sqrt\n",
      "  return np.sqrt(u + v - 2*(x @ y.T))  # вычитаем попарные скалярные произведения векторов из x и векторов из y\n"
     ]
    },
    {
     "name": "stdout",
     "output_type": "stream",
     "text": [
      "Wall time: 20min 37s\n"
     ]
    }
   ],
   "source": [
    "for i in ['kd_tree', 'ball_tree', 'brute', 'my_own']:\n",
    "    alg = BatchedKNNClassifier(n_neighbors=5, algorithm=i, metric='euclidean', weights='uniform')\n",
    "    alg.fit(X_train_for_time_analysis, y_train)\n",
    "    %time distances, indices = alg.kneighbors(X_test_for_time_analysis, return_distance=True)"
   ]
  },
  {
   "cell_type": "markdown",
   "metadata": {},
   "source": [
    "#### Приведите график / таблицу с результатами вашего эксперимента"
   ]
  },
  {
   "cell_type": "code",
   "execution_count": 31,
   "metadata": {},
   "outputs": [],
   "source": [
    "kd_tree_time = [3.72, 9.94, 133]\n",
    "ball_tree_time = [8.33, 28.7, 155]\n",
    "brute_time = [15.1, 14.6, 16.9]\n",
    "my_own_time = [393, 524, 1237]\n",
    "time_results = pd.DataFrame({'10': [kd_tree_time[0], ball_tree_time[0], brute_time[0], my_own_time[0]],\n",
    "                             '20': [kd_tree_time[1], ball_tree_time[1], brute_time[1], my_own_time[1]],\n",
    "                             '100': [kd_tree_time[2], ball_tree_time[2], brute_time[2], my_own_time[2]]\n",
    "                            }, index=['kd_tree', 'ball_tree', 'brute', 'my_own'])"
   ]
  },
  {
   "cell_type": "code",
   "execution_count": 32,
   "metadata": {},
   "outputs": [
    {
     "data": {
      "text/html": [
       "<div>\n",
       "<style scoped>\n",
       "    .dataframe tbody tr th:only-of-type {\n",
       "        vertical-align: middle;\n",
       "    }\n",
       "\n",
       "    .dataframe tbody tr th {\n",
       "        vertical-align: top;\n",
       "    }\n",
       "\n",
       "    .dataframe thead th {\n",
       "        text-align: right;\n",
       "    }\n",
       "</style>\n",
       "<table border=\"1\" class=\"dataframe\">\n",
       "  <thead>\n",
       "    <tr style=\"text-align: right;\">\n",
       "      <th></th>\n",
       "      <th>10</th>\n",
       "      <th>20</th>\n",
       "      <th>100</th>\n",
       "    </tr>\n",
       "  </thead>\n",
       "  <tbody>\n",
       "    <tr>\n",
       "      <th>kd_tree</th>\n",
       "      <td>3.72</td>\n",
       "      <td>9.94</td>\n",
       "      <td>133.0</td>\n",
       "    </tr>\n",
       "    <tr>\n",
       "      <th>ball_tree</th>\n",
       "      <td>8.33</td>\n",
       "      <td>28.70</td>\n",
       "      <td>155.0</td>\n",
       "    </tr>\n",
       "    <tr>\n",
       "      <th>brute</th>\n",
       "      <td>15.10</td>\n",
       "      <td>14.60</td>\n",
       "      <td>16.9</td>\n",
       "    </tr>\n",
       "    <tr>\n",
       "      <th>my_own</th>\n",
       "      <td>393.00</td>\n",
       "      <td>524.00</td>\n",
       "      <td>1237.0</td>\n",
       "    </tr>\n",
       "  </tbody>\n",
       "</table>\n",
       "</div>"
      ],
      "text/plain": [
       "               10      20     100\n",
       "kd_tree      3.72    9.94   133.0\n",
       "ball_tree    8.33   28.70   155.0\n",
       "brute       15.10   14.60    16.9\n",
       "my_own     393.00  524.00  1237.0"
      ]
     },
     "execution_count": 32,
     "metadata": {},
     "output_type": "execute_result"
    }
   ],
   "source": [
    "time_results"
   ]
  },
  {
   "cell_type": "code",
   "execution_count": 43,
   "metadata": {},
   "outputs": [
    {
     "data": {
      "image/png": "[encoded data removed]",
      "text/plain": [
       "<Figure size 432x288 with 1 Axes>"
      ]
     },
     "metadata": {
      "needs_background": "light"
     },
     "output_type": "display_data"
    }
   ],
   "source": [
    "features_range = [10, 20, 100]\n",
    "plt.plot(features_range, kd_tree_time, label=\"kd_tree\")\n",
    "plt.plot(features_range, ball_tree_time, label=\"ball_tree\")\n",
    "plt.plot(features_range, brute_time, label=\"brute\")\n",
    "plt.plot(features_range, my_own_time, label=\"my_own\")\n",
    "plt.legend(fontsize=18)\n",
    "plt.xlabel(\"number of features\", fontsize=20)\n",
    "plt.ylabel(\"Time\", fontsize=20)\n",
    "plt.yscale(\"log\")\n",
    "plt.xscale(\"log\")\n",
    "plt.xticks(fontsize=16)\n",
    "_ = plt.yticks(fontsize=18)"
   ]
  },
  {
   "cell_type": "markdown",
   "metadata": {},
   "source": [
    "#### Ответьте на следующие вопросы"
   ]
  },
  {
   "cell_type": "markdown",
   "metadata": {},
   "source": [
    "1. Какой алгоритм сработал быстрее всего для каждого из размера подвыборок? Ожидали ли вы такие результаты до проведения эксперимента?\n",
    "\n",
    "    Для 10 признаков быстрее всего сработал алгоритм 'kd_tree', а для 20 и 100 - 'brute'. Я ожидал, что деревья будут справляться лучше для любого количества признаков."
   ]
  },
  {
   "cell_type": "markdown",
   "metadata": {},
   "source": [
    "2. Приведите теоретическую сложность каждого из алгоритмов поиска. Согласуется ли время работы алгоритмов на практике с их теоретической вычислительной сложностью? Как вы думаете, почему?\n",
    "\n",
    "    Алгоритм 'kd_tree' заключается в использовании двочиного дерева поиска. Поэтому поиск, вставка и удаление элемента в нём занимают $O(\\log l)$, где $l$ - количество объектов в выборке. Сначала строится дерево из объектов обучающей выборки, потом для каждого элемента из тестовой выборки: добавляем егов дерево ищем $k$ соседей и удаляем его из дерева. Так что для  алгоритма поиска ближайших соседей получим $O(mk\\log n)$, где $n$ - количество элементов в обучающей выборке, $m$ - количество элементов в тестовой выборке. В нашем случае $m=n/6$, $k=5$, так что получим $O(N\\log N)$, $N$ - количество объектов во всей выборке. Всё это было для $1$ признака, поэтому для $d$ признаков получим $O(dN\\log N)$\n",
    "\n",
    "    Алгоритм 'ball_tree' также использует двоичное дерево поиска, но в узлах содержит шары, на которые разбивает пространство. Сложность будет $O(dN\\log N)$\n",
    "    Алгоритм 'brute' - стандартная реализация knn, считающая расстояния до всех соседей. Так что ложность будет $O(dN^2)$.\n",
    "\n",
    "    Алгоритм 'my_own' имеет сложность $O(dN^2)$.\n",
    "    \n",
    "    На практике время работы алгоритмов не всегда согласуется с теоретической сложностью. Алгоритм 'my_own' получился настолько хуже по времени, чем остальные, потому что я много лишнего копирования использовал, но все тесты на ejudge алгоритм прошёл. Однако асимптотически по количеству признаков его сложность на практике оказалась очень похожей на корень, что лучше заявленной линейной и лучше асимптотики, получившейся для деревьев.\n",
    "    \n",
    "    Деревья показали асимптотику по количеству признаков хуже теоретической.\n",
    "    \n",
    "    Для 'brute' оказалось, что он не зависит от клоичества признаков.\n",
    "    "
   ]
  },
  {
   "cell_type": "markdown",
   "metadata": {},
   "source": [
    "3. Какой алгоритм исходя из результатов эксперимента следует использовать в дальнейшем? Выберите алгоритм поиска соседей, который вы будете использовать во всех экспериментах ниже. \n",
    "\n",
    "    Исходя из результатов экспериментов следует использовать алгоритм 'brute'. Для таких размерностей данных он лучше всего подходит. Дальше использую его."
   ]
  },
  {
   "cell_type": "markdown",
   "metadata": {},
   "source": [
    "### 3. Исследование зависимости точности алгоритма на кросс-валидации (4 балла)\n",
    "\n",
    "\n",
    "Оцените по кросс-валидации с 3 фолдами точность (долю правильно предсказанных ответов) алгоритма k ближайших соседей в зависимости от следующих факторов:\n",
    "* количество соседей k от 1 до 10\n",
    "* используется евклидова или косинусная метрика"
   ]
  },
  {
   "cell_type": "code",
   "execution_count": 7,
   "metadata": {},
   "outputs": [],
   "source": [
    "accuracy_results_euclidean = knn_cross_val_score(X_train, y_train, k_list = [i for i in range(1,11)], \n",
    "        algorithm = 'brute', scoring = 'accuracy', metric = 'euclidean', weights = 'uniform', cv=KFold(n_splits=3))"
   ]
  },
  {
   "cell_type": "code",
   "execution_count": 9,
   "metadata": {},
   "outputs": [],
   "source": [
    "accuracy_results_cosine = knn_cross_val_score(X_train, y_train, k_list = [i for i in range(1,11)], \n",
    "        algorithm = 'brute', scoring = 'accuracy', metric = 'cosine', weights = 'uniform', cv=KFold(n_splits=3))"
   ]
  },
  {
   "cell_type": "code",
   "execution_count": 23,
   "metadata": {},
   "outputs": [],
   "source": [
    "accuracy_results_euclidean_mean =[]\n",
    "for i in accuracy_results_euclidean:\n",
    "    accuracy_results_euclidean_mean.append(np.mean(accuracy_results_euclidean[i]))\n",
    "accuracy_results_euclidean_mean.reverse()"
   ]
  },
  {
   "cell_type": "code",
   "execution_count": 26,
   "metadata": {},
   "outputs": [],
   "source": [
    "accuracy_results_cosine_mean =[]\n",
    "for i in accuracy_results_cosine:\n",
    "    accuracy_results_cosine_mean.append(np.mean(accuracy_results_cosine[i]))\n",
    "accuracy_results_cosine_mean.reverse()"
   ]
  },
  {
   "cell_type": "markdown",
   "metadata": {},
   "source": [
    "#### Нарисуйте график зависимости точности от количества соседей по каждой метрике"
   ]
  },
  {
   "cell_type": "code",
   "execution_count": 38,
   "metadata": {},
   "outputs": [
    {
     "data": {
      "image/png": "[encoded data removed]",
      "text/plain": [
       "<Figure size 432x288 with 1 Axes>"
      ]
     },
     "metadata": {
      "needs_background": "light"
     },
     "output_type": "display_data"
    }
   ],
   "source": [
    "k = [i for i in range(1,11)]\n",
    "plt.title('Cross-validation of k', fontsize=20)\n",
    "plt.plot(k, accuracy_results_euclidean_mean, label=\"euclidean\")\n",
    "plt.plot(k, accuracy_results_cosine_mean, label=\"cosine\")\n",
    "\n",
    "plt.legend(fontsize=18)\n",
    "plt.xlabel(\"k\", fontsize=20)\n",
    "plt.ylabel(\"mean accuracy\", fontsize=20)\n",
    "plt.xticks(fontsize=16)\n",
    "_ = plt.yticks(fontsize=18)"
   ]
  },
  {
   "cell_type": "markdown",
   "metadata": {},
   "source": [
    "#### Ответьте на следующие вопросы"
   ]
  },
  {
   "cell_type": "markdown",
   "metadata": {},
   "source": [
    "1. По результатам эксперимента, какие гиперпараметры вы считаете наиболее оптимальными? Обоснуйте свой выбор (например, если у вас несколько наборов параметров с высоким качеством, обоснуйте как вы выберите среди этих наборов один).\n",
    "\n",
    "   По результатам эксперимента оптимальными я считаю $k$, равное $3$, и метрику косинусную. Заметим, что для $k = 3,4,5$ точность примерно одинаковая. В таком случае лучше выбрать минимальное k, чтобы меньше считать в алгоритме и меньше памяти использовать.\n",
    "\n",
    "\n",
    "2. Какая метрика лучше себя показала в экспериментах? Можете ли вы объяснить, почему?\n",
    "\n",
    "    Лучше себя показала косинусная метрика. Потому что она считает в некотором смысле относительную близость объектов. Что в нашем случае предпочтительнее, так как признаки - значения пикселей.\n",
    "    \n",
    "   \n",
    "2. Есть ли на графике зависимости точности от количество соседей \"выбросы\", резкие падения/повышения качества для одного значения k по сравнению с соседними? Если да, предположите причину появления этих выбросов.\n",
    "    \n",
    "    Да, для $k = 2$ наблюдаем резкое снижение качества для обеих метрик. Думал насчёт чётности $k$, заметны скачки."
   ]
  },
  {
   "cell_type": "markdown",
   "metadata": {},
   "source": [
    "### 3. Исследование зависимости точности взвешенного алгоритма на кросс-валидации (4 балла)\n",
    "\n",
    "По результатам предыдущего эксперимента выберите метрику, которую вы будете использовать в этом эксперименте.\n",
    "\n",
    "Оцените по кросс-валидации с 3 фолдами точность (долю правильно предсказанных ответов) взвешенного алгоритма k ближайших соседей в зависимости от количество соседей k (от 1 до 10).\n",
    "\n",
    "Голос объекта положите равным `1 / (distance + eps)`, где `eps` = `1e-5`."
   ]
  },
  {
   "cell_type": "code",
   "execution_count": 41,
   "metadata": {},
   "outputs": [],
   "source": [
    "accuracy_results_cosine_weighted = knn_cross_val_score(X_train, y_train, k_list = [i for i in range(1,11)], \n",
    "        algorithm = 'brute', scoring = 'accuracy', metric = 'cosine', weights = 'distance', cv=KFold(n_splits=3))"
   ]
  },
  {
   "cell_type": "code",
   "execution_count": 47,
   "metadata": {},
   "outputs": [],
   "source": [
    "accuracy_results_cosine_weighted_mean =[]\n",
    "for i in accuracy_results_cosine_weighted:\n",
    "    accuracy_results_cosine_weighted_mean.append(np.mean(accuracy_results_cosine_weighted[i]))\n",
    "accuracy_results_cosine_weighted_mean.reverse()"
   ]
  },
  {
   "cell_type": "markdown",
   "metadata": {},
   "source": [
    "#### Нарисуйте график зависимости точности от количества соседей "
   ]
  },
  {
   "cell_type": "code",
   "execution_count": 48,
   "metadata": {},
   "outputs": [
    {
     "data": {
      "image/png": "[encoded data removed]",
      "text/plain": [
       "<Figure size 432x288 with 1 Axes>"
      ]
     },
     "metadata": {
      "needs_background": "light"
     },
     "output_type": "display_data"
    }
   ],
   "source": [
    "k = [i for i in range(1,11)]\n",
    "plt.title('Cross-validation of k', fontsize=20)\n",
    "plt.plot(k, accuracy_results_cosine_weighted_mean, label='distance')\n",
    "plt.plot(k, accuracy_results_cosine_mean, label='uniform')\n",
    "plt.legend(fontsize=18)\n",
    "plt.xlabel(\"k\", fontsize=20)\n",
    "plt.ylabel(\"mean accuracy\", fontsize=20)\n",
    "plt.xticks(fontsize=16)\n",
    "_ = plt.yticks(fontsize=18)"
   ]
  },
  {
   "cell_type": "markdown",
   "metadata": {},
   "source": [
    "#### Ответьте на следующие вопросы"
   ]
  },
  {
   "cell_type": "markdown",
   "metadata": {},
   "source": [
    "1. По результатам эксперимента, какие гиперпараметры вы считаете наиболее оптимальными? Обоснуйте свой выбор.\n",
    "\n",
    "    Оптимальным в данном случае будет $k = 4$, после него уже начинается падение точности. Это верно как для взвешенного алгоритма, так и для невзвешенного.\n",
    "  "
   ]
  },
  {
   "cell_type": "markdown",
   "metadata": {},
   "source": [
    "2. Сравните результаты взвешенного алгоритма с невзвешенным. Объясните разницу/отсутствие разницы в результатах.\n",
    "\n",
    "   По результатм экспериментов для определения ближайшего соседа лучше использовать веса, обратно пропорциональные расстоянию. Это было и изначально понятно, так как модель, учитывающая расстояния до соседей при выборе ближайшего, точнее описывает положение объекта, особенно если k не такой большой. также отметим, что для $k = 1$ точность для одинаковых весов и весов, зависящих от расстояния, будет одинаковая, так как когда выбран один ближайший объект, то выбор ближайшего из одного происходит единственным образом."
   ]
  },
  {
   "cell_type": "markdown",
   "metadata": {},
   "source": [
    "### 4. Применение алгоритма и интерпретация ошибок (3 балла)\n",
    "\n",
    "1. Примените лучший алгоритм к исходной обучающей и тестовой выборке и посчитайте точность классификации. Сравните с точностью по кросс-валидации. Опишите ваши результаты."
   ]
  },
  {
   "cell_type": "code",
   "execution_count": 151,
   "metadata": {
    "scrolled": true
   },
   "outputs": [
    {
     "data": {
      "text/plain": [
       "<knn.classification.BatchedKNNClassifier at 0x1ac05f0dac0>"
      ]
     },
     "execution_count": 151,
     "metadata": {},
     "output_type": "execute_result"
    }
   ],
   "source": [
    "best_algorithm = BatchedKNNClassifier(n_neighbors=4, algorithm='brute', metric='cosine', weights='distance')\n",
    "best_algorithm.fit(X_train, y_train)"
   ]
  },
  {
   "cell_type": "code",
   "execution_count": 154,
   "metadata": {},
   "outputs": [],
   "source": [
    "y_train_pred = best_algorithm.predict(X_train)"
   ]
  },
  {
   "cell_type": "code",
   "execution_count": 152,
   "metadata": {},
   "outputs": [
    {
     "name": "stdout",
     "output_type": "stream",
     "text": [
      "Wall time: 44.8 s\n"
     ]
    }
   ],
   "source": [
    "%time y_test_pred = best_algorithm.predict(X_test)"
   ]
  },
  {
   "cell_type": "code",
   "execution_count": 155,
   "metadata": {},
   "outputs": [
    {
     "name": "stdout",
     "output_type": "stream",
     "text": [
      "accuracy train:  1.0\n",
      "accuracy test:  0.9752\n"
     ]
    }
   ],
   "source": [
    "print(\"accuracy train: \", accuracy_score(y_train_pred, y_train))\n",
    "print(\"accuracy test: \", accuracy_score(y_test_pred, y_test))"
   ]
  },
  {
   "cell_type": "markdown",
   "metadata": {},
   "source": [
    "Как и ожидалось, алгорит даёт стопроцентную точность на обучающей выборке, так используемый алгорит считает расстояния до всех объектов обучающей выборки, а расстояние от объекта также из обучающей выборки будет равняться нулю как раз для этого же объекта.\n",
    "\n",
    "Точность на тесте оказалась даже лучше, чем на кросс-валидации. Значит, данные были однородными, тогда в этом случае чем больше обучающая выборка, тем лучше, а на кросс-валидации для обучения используется не вся изначальная обучающая выборка."
   ]
  },
  {
   "cell_type": "markdown",
   "metadata": {},
   "source": [
    "2. Постройте и проанализируйте матрицу ошибок (confusion matrix), используйте функцию `sklearn.metrics.confusion_matrix`. Визуализируйте несколько объектов из тестовой выборки, на которых были допущены ошибки. Проанализируйте и укажите их общие черты."
   ]
  },
  {
   "cell_type": "code",
   "execution_count": 114,
   "metadata": {},
   "outputs": [
    {
     "data": {
      "text/plain": [
       "array([[ 977,    1,    0,    0,    0,    0,    1,    1,    0,    0],\n",
       "       [   0, 1129,    3,    1,    0,    0,    2,    0,    0,    0],\n",
       "       [   8,    0, 1009,    1,    1,    0,    0,    8,    5,    0],\n",
       "       [   0,    1,    3,  976,    1,   12,    0,    4,    9,    4],\n",
       "       [   2,    1,    0,    0,  946,    0,    6,    2,    0,   25],\n",
       "       [   4,    0,    0,    9,    1,  863,    7,    1,    4,    3],\n",
       "       [   3,    3,    0,    0,    1,    3,  948,    0,    0,    0],\n",
       "       [   2,   10,    4,    0,    1,    0,    0,  998,    0,   13],\n",
       "       [   7,    1,    2,    9,    3,    3,    5,    4,  936,    4],\n",
       "       [   7,    7,    2,    5,    7,    3,    1,    4,    3,  970]],\n",
       "      dtype=int64)"
      ]
     },
     "execution_count": 114,
     "metadata": {},
     "output_type": "execute_result"
    }
   ],
   "source": [
    "confusion_matrix(y_test, y_test_pred)"
   ]
  },
  {
   "cell_type": "markdown",
   "metadata": {},
   "source": [
    "Посмотрим, на каких объектах ошибался алгоритм."
   ]
  },
  {
   "cell_type": "code",
   "execution_count": 91,
   "metadata": {},
   "outputs": [
    {
     "data": {
      "text/plain": [
       "(array([0, 0, 0, 0, 0, 0, 0, 0, 0, 0, 0, 0, 0, 0, 0, 0, 0, 0, 0, 0, 0, 0,\n",
       "        0, 0, 0], dtype=int64),\n",
       " array([ 115,  447,  707,  740,  881, 1178, 1242, 1422, 1778, 1865, 2130,\n",
       "        2447, 2771, 2901, 3405, 3490, 4017, 4194, 4860, 4911, 5936, 8061,\n",
       "        8520, 8527, 9211], dtype=int64))"
      ]
     },
     "execution_count": 91,
     "metadata": {},
     "output_type": "execute_result"
    }
   ],
   "source": [
    "np.where([(y_test == 4) & (y_test_pred == 9)])"
   ]
  },
  {
   "cell_type": "code",
   "execution_count": 101,
   "metadata": {},
   "outputs": [
    {
     "data": {
      "image/png": "[encoded data removed]",
      "text/plain": [
       "<Figure size 432x288 with 1 Axes>"
      ]
     },
     "metadata": {
      "needs_background": "light"
     },
     "output_type": "display_data"
    }
   ],
   "source": [
    "plt.imshow(X_test[447].reshape(28,28), cmap='gray_r')\n",
    "plt.show()"
   ]
  },
  {
   "cell_type": "code",
   "execution_count": 94,
   "metadata": {},
   "outputs": [
    {
     "data": {
      "text/plain": [
       "(array([0, 0, 0, 0, 0, 0, 0, 0, 0, 0], dtype=int64),\n",
       " array([ 551, 1260, 1500, 2607, 3808, 3838, 3976, 4837, 4886, 4966],\n",
       "       dtype=int64))"
      ]
     },
     "execution_count": 94,
     "metadata": {},
     "output_type": "execute_result"
    }
   ],
   "source": [
    "np.where([(y_test == 7) & (y_test_pred == 1)])"
   ]
  },
  {
   "cell_type": "code",
   "execution_count": 99,
   "metadata": {},
   "outputs": [
    {
     "data": {
      "image/png": "[encoded data removed]",
      "text/plain": [
       "<Figure size 432x288 with 1 Axes>"
      ]
     },
     "metadata": {
      "needs_background": "light"
     },
     "output_type": "display_data"
    }
   ],
   "source": [
    "plt.imshow(X_test[1260].reshape(28,28), cmap='gray_r')\n",
    "plt.show()"
   ]
  },
  {
   "cell_type": "code",
   "execution_count": 102,
   "metadata": {},
   "outputs": [
    {
     "data": {
      "text/plain": [
       "(array([0, 0, 0, 0, 0, 0, 0, 0, 0, 0, 0, 0], dtype=int64),\n",
       " array([ 938,  957, 1290, 2408, 2952, 2953, 4740, 6011, 6045, 6059, 8277,\n",
       "        8290], dtype=int64))"
      ]
     },
     "execution_count": 102,
     "metadata": {},
     "output_type": "execute_result"
    }
   ],
   "source": [
    "np.where([(y_test == 3) & (y_test_pred == 5)])"
   ]
  },
  {
   "cell_type": "code",
   "execution_count": 111,
   "metadata": {},
   "outputs": [
    {
     "data": {
      "image/png": "[encoded data removed]",
      "text/plain": [
       "<Figure size 432x288 with 1 Axes>"
      ]
     },
     "metadata": {
      "needs_background": "light"
     },
     "output_type": "display_data"
    }
   ],
   "source": [
    "plt.imshow(X_test[2953].reshape(28,28), cmap='gray_r')\n",
    "plt.show()"
   ]
  },
  {
   "cell_type": "code",
   "execution_count": 122,
   "metadata": {},
   "outputs": [
    {
     "data": {
      "text/plain": [
       "8"
      ]
     },
     "execution_count": 122,
     "metadata": {},
     "output_type": "execute_result"
    }
   ],
   "source": [
    "# при классификации какой цифры алгоритм хуже всего работает?\n",
    "np.argmax((np.sum(confusion_matrix(y_test, y_test_pred), axis = 1) - np.diagonal(confusion_matrix(y_test, y_test_pred)))/np.diagonal(confusion_matrix(y_test, y_test_pred)))"
   ]
  },
  {
   "cell_type": "code",
   "execution_count": 124,
   "metadata": {},
   "outputs": [
    {
     "data": {
      "text/plain": [
       "0"
      ]
     },
     "execution_count": 124,
     "metadata": {},
     "output_type": "execute_result"
    }
   ],
   "source": [
    "# при классификации какой цифры алгоритм лучше всего работает?\n",
    "np.argmin((np.sum(confusion_matrix(y_test, y_test_pred), axis = 1) - np.diagonal(confusion_matrix(y_test, y_test_pred)))/np.diagonal(confusion_matrix(y_test, y_test_pred)))"
   ]
  },
  {
   "cell_type": "code",
   "execution_count": 129,
   "metadata": {},
   "outputs": [],
   "source": [
    "def min_number_of_wrong_types_of_digits(a):\n",
    "    return np.bincount(a)[0]"
   ]
  },
  {
   "cell_type": "code",
   "execution_count": 131,
   "metadata": {},
   "outputs": [
    {
     "data": {
      "text/plain": [
       "array([6, 6, 4, 2, 4, 2, 5, 4, 0, 0], dtype=int64)"
      ]
     },
     "execution_count": 131,
     "metadata": {},
     "output_type": "execute_result"
    }
   ],
   "source": [
    "np.apply_along_axis(min_number_of_wrong_types_of_digits, 1, confusion_matrix(y_test, y_test_pred))"
   ]
  },
  {
   "cell_type": "markdown",
   "metadata": {},
   "source": [
    "Исходя из вида confusion_matrix сделаем несколько выводов. Ошибаясь, алгоритм чаще всего считает четвёрки девятками, единицы семёрками и тройки пятёрками. Судя по картинкам представителей таких ошибок их тестовой выборки, это вполне обоснованные ошибки, то есть цифры действительно можно было спутать даже визуально.\n",
    "\n",
    "Цифры 8 и 9 алгоритм путал со всеми остальными. Цифры 0 и 1 алгоритм путал с меньшим числом других видов цифр(с 3 видами).\n",
    "\n",
    "Хуже всего алгоритм справляется с классификацией 8: там выше всего процент несовпаданий. А лучше всего алгоритм справляется с классификацией 0: там ниже всего процент несовпаданий."
   ]
  },
  {
   "cell_type": "markdown",
   "metadata": {},
   "source": [
    "## Бонус 1. Размножение обучающей выборки (3 балла)\n",
    "\n",
    "Размножьте обучающую выборку с помощью поворотов, смещений, применений гауссовского фильтра и морфологических операций. Разрешается использовать библиотеки для работы с изображениями. Подобрать по кросс-валидации с 3 фолдами параметры преобразований. Рассмотреть следующие параметры для преобразований и их комбинации:\n",
    "1. Величина поворота: 5, 10, 15 (в каждую из двух сторон)\n",
    "2. Величина смещения: 1, 2, 3 пикселя (по каждой из двух размерностей)\n",
    "3. Дисперсия фильтра Гаусса: 0.5, 1, 1.5\n",
    "4. Морфологические операции: эрозия, дилатация, открытие, закрытие с ядром 2\n",
    "\n",
    "Проанализируйте, как изменилась матрица ошибок, какие ошибки алгоритма помогает исправить каждое\n",
    "преобразование.\n",
    "\n",
    "**Замечание.** Не обязательно хранить все обучающие выборки в процессе эксперимента. Достаточно вычислить ближайших соседей по каждой из выборок, а затем выбрать из них ближайших соседей.\n",
    "\n",
    "**Замечание по дизайну эксперимента**. В этой части вам предлагается самим выбрать дизайн эксперимента. Перебор всевоможных комбинаций преобразований может быть затруднительным, в то время как жадный выбор преобразований уже даст улучшение в качестве."
   ]
  },
  {
   "cell_type": "code",
   "execution_count": 11,
   "metadata": {},
   "outputs": [],
   "source": [
    "from skimage import transform # для поворотов картинок\n",
    "import scipy.ndimage as ndimage # для сдвигов картинок\n",
    "import cv2"
   ]
  },
  {
   "cell_type": "markdown",
   "metadata": {},
   "source": [
    "Для ускорения работы эксперимента совершим не полный перебор параметров, а будем последовательно выбирать лучшее значение параметра для текущего преобразования, запоминать его и двигаться к следующему преобразованию."
   ]
  },
  {
   "cell_type": "markdown",
   "metadata": {},
   "source": [
    "Также будем проводить валидацию на отдельной валидационной выборке меньшего размера."
   ]
  },
  {
   "cell_type": "code",
   "execution_count": 47,
   "metadata": {},
   "outputs": [],
   "source": [
    "_, X_val, _, y_val = train_test_split(X_train, y_train, test_size=0.1, shuffle=False)"
   ]
  },
  {
   "cell_type": "markdown",
   "metadata": {},
   "source": [
    "Повороты"
   ]
  },
  {
   "cell_type": "code",
   "execution_count": 48,
   "metadata": {},
   "outputs": [],
   "source": [
    "angles = [5, 10, 15, -5, -10, -15]"
   ]
  },
  {
   "cell_type": "code",
   "execution_count": 49,
   "metadata": {},
   "outputs": [],
   "source": [
    "cv = KFold(n_splits=3)\n",
    "score_KFold = np.zeros(3)\n",
    "score = {}\n",
    "for j in angles:\n",
    "    def transform_(a):\n",
    "        return transform.rotate(a.reshape(28,28), j, resize=False).reshape(784,)\n",
    "    X_val_rotated = np.apply_along_axis(transform_, 1, X_val)  # совершаем преобразование \n",
    "    X_val_new = np.vstack((X_val, X_val_rotated))              # модернизируем выборку\n",
    "    y_val_new = np.hstack((y_val, y_val))\n",
    "    i = 0\n",
    "    for train_index, test_index in cv.split(X_val_new):\n",
    "        x_train_kfold, x_test_kfold = X_val_new[train_index], X_val_new[test_index]\n",
    "        y_train_kfold, y_test_kfold = y_val_new[train_index], y_val_new[test_index]\n",
    "        alg = BatchedKNNClassifier(n_neighbors=4, algorithm='brute', metric='cosine', weights='distance')\n",
    "        alg.fit(x_train_kfold, y_train_kfold)\n",
    "        distances_KFold, indices_KFold = alg.kneighbors(x_test_kfold, return_distance=True)\n",
    "        y_pred = alg._predict_precomputed(indices_KFold, distances_KFold)\n",
    "        score_KFold[i] = accuracy_score(y_test_kfold, y_pred)\n",
    "        i += 1\n",
    "    score[j] = np.mean(score_KFold)"
   ]
  },
  {
   "cell_type": "code",
   "execution_count": 50,
   "metadata": {},
   "outputs": [
    {
     "data": {
      "image/png": "[encoded data removed]",
      "text/plain": [
       "<Figure size 432x288 with 1 Axes>"
      ]
     },
     "metadata": {
      "needs_background": "light"
     },
     "output_type": "display_data"
    }
   ],
   "source": [
    "plt.title('Cross-validation of angles', fontsize=20)\n",
    "plt.plot(score.keys(), score.values())\n",
    "plt.xlabel(\"angle\", fontsize=20)\n",
    "plt.ylabel(\"mean accuracy\", fontsize=20)\n",
    "plt.xticks(fontsize=16)\n",
    "_ = plt.yticks(fontsize=18)"
   ]
  },
  {
   "cell_type": "markdown",
   "metadata": {},
   "source": [
    "Видим, что лучше использовать угол, равный 5, изменим выборку."
   ]
  },
  {
   "cell_type": "code",
   "execution_count": 51,
   "metadata": {},
   "outputs": [],
   "source": [
    "def transform_(a):\n",
    "    return transform.rotate(a.reshape(28,28), 5, resize=False).reshape(784,)\n",
    "X_val_rotated = np.apply_along_axis(transform_, 1, X_val)\n",
    "X_val_rotated = np.vstack((X_val, X_val_rotated))\n",
    "y_val_rotated = np.hstack((y_val, y_val))"
   ]
  },
  {
   "cell_type": "markdown",
   "metadata": {},
   "source": [
    "Сдвиги по первой оси"
   ]
  },
  {
   "cell_type": "code",
   "execution_count": 52,
   "metadata": {},
   "outputs": [],
   "source": [
    "shifts = [1, 2, 3]"
   ]
  },
  {
   "cell_type": "code",
   "execution_count": 53,
   "metadata": {},
   "outputs": [],
   "source": [
    "cv = KFold(n_splits=3)\n",
    "score_KFold = np.zeros(3)\n",
    "score = {}\n",
    "for j in shifts:\n",
    "    def shift_(a):\n",
    "        return ndimage.shift(a.reshape(28,28), [j,0]).reshape(784,)\n",
    "    X_val_shifted = np.apply_along_axis(shift_, 1, X_val)          # совершаем преобразование \n",
    "    X_val_new = np.vstack((X_val_rotated, X_val_shifted))          # модернизируем выборку\n",
    "    y_val_new = np.hstack((y_val_rotated, y_val))\n",
    "    i = 0\n",
    "    for train_index, test_index in cv.split(X_val_new):\n",
    "        x_train_kfold, x_test_kfold = X_val_new[train_index], X_val_new[test_index]\n",
    "        y_train_kfold, y_test_kfold = y_val_new[train_index], y_val_new[test_index]\n",
    "        alg = BatchedKNNClassifier(n_neighbors=4, algorithm='brute', metric='cosine', weights='distance')\n",
    "        alg.fit(x_train_kfold, y_train_kfold)\n",
    "        distances_KFold, indices_KFold = alg.kneighbors(x_test_kfold, return_distance=True)\n",
    "        y_pred = alg._predict_precomputed(indices_KFold, distances_KFold)\n",
    "        score_KFold[i] = accuracy_score(y_test_kfold, y_pred)\n",
    "        i += 1\n",
    "    score[j] = np.mean(score_KFold)"
   ]
  },
  {
   "cell_type": "code",
   "execution_count": 54,
   "metadata": {},
   "outputs": [
    {
     "data": {
      "image/png": "[encoded data removed]",
      "text/plain": [
       "<Figure size 432x288 with 1 Axes>"
      ]
     },
     "metadata": {
      "needs_background": "light"
     },
     "output_type": "display_data"
    }
   ],
   "source": [
    "plt.title('Cross-validation of shift axis 0', fontsize=20)\n",
    "plt.plot(score.keys(), score.values())\n",
    "plt.xlabel(\"shift\", fontsize=20)\n",
    "plt.ylabel(\"mean accuracy\", fontsize=20)\n",
    "plt.xticks(fontsize=16)\n",
    "_ = plt.yticks(fontsize=18)"
   ]
  },
  {
   "cell_type": "markdown",
   "metadata": {},
   "source": [
    "Видим, что лучше использовать сдвиг по первой оси, равный 1, изменим выборку."
   ]
  },
  {
   "cell_type": "code",
   "execution_count": 55,
   "metadata": {},
   "outputs": [],
   "source": [
    "def shift_(a):\n",
    "    return ndimage.shift(a.reshape(28,28), [1,0]).reshape(784,)\n",
    "X_val_shifted = np.apply_along_axis(shift_, 1, X_val)      # совершаем преобразование \n",
    "X_val_shifted = np.vstack((X_val_rotated, X_val_shifted))  # модернизируем выборку\n",
    "y_val_shifted = np.hstack((y_val_rotated, y_val))"
   ]
  },
  {
   "cell_type": "markdown",
   "metadata": {},
   "source": [
    "Сдвиги по второй оси"
   ]
  },
  {
   "cell_type": "code",
   "execution_count": 56,
   "metadata": {},
   "outputs": [],
   "source": [
    "cv = KFold(n_splits=3)\n",
    "score_KFold = np.zeros(3)\n",
    "score = {}\n",
    "for j in shifts:\n",
    "    def shift_2(a):\n",
    "        return ndimage.shift(a.reshape(28,28), [0,j]).reshape(784,)\n",
    "    X_val_shifted_2 = np.apply_along_axis(shift_2, 1, X_val)  # совершаем преобразование \n",
    "    X_val_new = np.vstack((X_val_shifted, X_val_shifted_2))  # модернизируем выборку\n",
    "    y_val_new = np.hstack((y_val_shifted, y_val))\n",
    "    i = 0\n",
    "    for train_index, test_index in cv.split(X_val_new):\n",
    "        x_train_kfold, x_test_kfold = X_val_new[train_index], X_val_new[test_index]\n",
    "        y_train_kfold, y_test_kfold = y_val_new[train_index], y_val_new[test_index]\n",
    "        alg = BatchedKNNClassifier(n_neighbors=4, algorithm='brute', metric='cosine', weights='distance')\n",
    "        alg.fit(x_train_kfold, y_train_kfold)\n",
    "        distances_KFold, indices_KFold = alg.kneighbors(x_test_kfold, return_distance=True)\n",
    "        y_pred = alg._predict_precomputed(indices_KFold, distances_KFold)\n",
    "        score_KFold[i] = accuracy_score(y_test_kfold, y_pred)\n",
    "        i += 1\n",
    "    score[j] = np.mean(score_KFold)"
   ]
  },
  {
   "cell_type": "code",
   "execution_count": 57,
   "metadata": {},
   "outputs": [
    {
     "data": {
      "image/png": "[encoded data removed]",
      "text/plain": [
       "<Figure size 432x288 with 1 Axes>"
      ]
     },
     "metadata": {
      "needs_background": "light"
     },
     "output_type": "display_data"
    }
   ],
   "source": [
    "plt.title('Cross-validation of shift axis 1', fontsize=20)\n",
    "plt.plot(score.keys(), score.values())\n",
    "plt.xlabel(\"shift\", fontsize=20)\n",
    "plt.ylabel(\"mean accuracy\", fontsize=20)\n",
    "plt.xticks(fontsize=16)\n",
    "_ = plt.yticks(fontsize=18)"
   ]
  },
  {
   "cell_type": "markdown",
   "metadata": {},
   "source": [
    "Видим, что лучше использовать сдвиг по второй оси, равный 1, изменим выборку."
   ]
  },
  {
   "cell_type": "code",
   "execution_count": 58,
   "metadata": {},
   "outputs": [],
   "source": [
    "def shift_2(a):\n",
    "    return ndimage.shift(a.reshape(28,28), [0, 1]).reshape(784,)\n",
    "X_val_shifted_2 = np.apply_along_axis(shift_2, 1, X_val)  # совершаем преобразование \n",
    "X_val_shifted_2 = np.vstack((X_val_shifted, X_val_shifted_2))  # модернизируем выборку\n",
    "y_val_shifted_2 = np.hstack((y_val_shifted, y_val))"
   ]
  },
  {
   "cell_type": "markdown",
   "metadata": {},
   "source": [
    "Фильтр Гаусса"
   ]
  },
  {
   "cell_type": "code",
   "execution_count": 59,
   "metadata": {},
   "outputs": [],
   "source": [
    "gauss_filter_var = [0.5, 1, 1.5]\n",
    "N = 5  # размер фильтра"
   ]
  },
  {
   "cell_type": "code",
   "execution_count": 60,
   "metadata": {},
   "outputs": [],
   "source": [
    "cv = KFold(n_splits=3)\n",
    "score_KFold = np.zeros(3)\n",
    "score = {}\n",
    "for j in gauss_filter_var:\n",
    "    def gauss_filt(a):\n",
    "        return cv2.GaussianBlur(a.reshape(28,28), ksize=(N, N), sigmaX=j).reshape(784,)\n",
    "    X_val_gauss_filted = np.apply_along_axis(gauss_filt, 1, X_val)  # совершаем преобразование \n",
    "    X_val_new = np.vstack((X_val_shifted_2, X_val_gauss_filted))  # модернизируем выборку\n",
    "    y_val_new = np.hstack((y_val_shifted_2, y_val))\n",
    "    i = 0\n",
    "    for train_index, test_index in cv.split(X_val_new):\n",
    "        x_train_kfold, x_test_kfold = X_val_new[train_index], X_val_new[test_index]\n",
    "        y_train_kfold, y_test_kfold = y_val_new[train_index], y_val_new[test_index]\n",
    "        alg = BatchedKNNClassifier(n_neighbors=4, algorithm='brute', metric='cosine', weights='distance')\n",
    "        alg.fit(x_train_kfold, y_train_kfold)\n",
    "        distances_KFold, indices_KFold = alg.kneighbors(x_test_kfold, return_distance=True)\n",
    "        y_pred = alg._predict_precomputed(indices_KFold, distances_KFold)\n",
    "        score_KFold[i] = accuracy_score(y_test_kfold, y_pred)\n",
    "        i += 1\n",
    "    score[j] = np.mean(score_KFold)"
   ]
  },
  {
   "cell_type": "code",
   "execution_count": 61,
   "metadata": {},
   "outputs": [
    {
     "data": {
      "image/png": "[encoded data removed]",
      "text/plain": [
       "<Figure size 432x288 with 1 Axes>"
      ]
     },
     "metadata": {
      "needs_background": "light"
     },
     "output_type": "display_data"
    }
   ],
   "source": [
    "plt.title('Cross-validation of var in gauss filter', fontsize=20)\n",
    "plt.plot(score.keys(), score.values())\n",
    "plt.xlabel(\"var\", fontsize=20)\n",
    "plt.ylabel(\"mean accuracy\", fontsize=20)\n",
    "plt.xticks(fontsize=16)\n",
    "_ = plt.yticks(fontsize=18)"
   ]
  },
  {
   "cell_type": "markdown",
   "metadata": {},
   "source": [
    "Видим, что лучше использовать фильтр Гаусса с дисперсией, равной 1, изменим выборку."
   ]
  },
  {
   "cell_type": "code",
   "execution_count": 62,
   "metadata": {},
   "outputs": [],
   "source": [
    "def gauss_filt(a):\n",
    "    return cv2.GaussianBlur(a.reshape(28,28), ksize=(5, 5), sigmaX=1).reshape(784,)\n",
    "X_val_gauss_filted = np.apply_along_axis(gauss_filt, 1, X_val)  # совершаем преобразование \n",
    "X_val_gauss_filted = np.vstack((X_val_shifted_2, X_val_gauss_filted))  # модернизируем выборку\n",
    "y_val_gauss_filted = np.hstack((y_val_shifted_2, y_val))"
   ]
  },
  {
   "cell_type": "markdown",
   "metadata": {},
   "source": [
    "Морфологические операции: эрозия, дилатация, открытие(эрозия, а затем дилатация), закрытие(дилатация, а затем эрозия) с ядром 2"
   ]
  },
  {
   "cell_type": "code",
   "execution_count": 63,
   "metadata": {},
   "outputs": [],
   "source": [
    "def erode_(a):\n",
    "    return cv2.erode(a.reshape(28,28), np.ones((2, 2)), iterations=1).reshape(784,) \n",
    "def dilate_(a):\n",
    "    return cv2.dilate(a.reshape(28,28), np.ones((2, 2)), iterations=1).reshape(784,) \n",
    "def open_(a):\n",
    "    return dilate_(erode_(a))\n",
    "def close_(a):\n",
    "    return erode_(dilate_(a))"
   ]
  },
  {
   "cell_type": "code",
   "execution_count": 64,
   "metadata": {},
   "outputs": [],
   "source": [
    "morfologic_transformations = [erode_, dilate_, open_, close_]"
   ]
  },
  {
   "cell_type": "code",
   "execution_count": 65,
   "metadata": {},
   "outputs": [],
   "source": [
    "cv = KFold(n_splits=3)\n",
    "score_KFold = np.zeros(3)\n",
    "score = {}\n",
    "for j in morfologic_transformations:\n",
    "    X_val_morfologic_transformed = np.apply_along_axis(j, 1, X_val)  # совершаем преобразование \n",
    "    X_val_new = np.vstack((X_val_gauss_filted, X_val_morfologic_transformed))  # модернизируем выборку\n",
    "    y_val_new = np.hstack((y_val_gauss_filted, y_val))\n",
    "    i = 0\n",
    "    for train_index, test_index in cv.split(X_val_new):\n",
    "        x_train_kfold, x_test_kfold = X_val_new[train_index], X_val_new[test_index]\n",
    "        y_train_kfold, y_test_kfold = y_val_new[train_index], y_val_new[test_index]\n",
    "        alg = BatchedKNNClassifier(n_neighbors=4, algorithm='brute', metric='cosine', weights='distance')\n",
    "        alg.fit(x_train_kfold, y_train_kfold)\n",
    "        distances_KFold, indices_KFold = alg.kneighbors(x_test_kfold, return_distance=True)\n",
    "        y_pred = alg._predict_precomputed(indices_KFold, distances_KFold)\n",
    "        score_KFold[i] = accuracy_score(y_test_kfold, y_pred)\n",
    "        i += 1\n",
    "    score[j] = np.mean(score_KFold)"
   ]
  },
  {
   "cell_type": "code",
   "execution_count": 66,
   "metadata": {},
   "outputs": [
    {
     "data": {
      "text/plain": [
       "{<function __main__.erode_(a)>: 0.9978611111111112,\n",
       " <function __main__.dilate_(a)>: 0.9985833333333334,\n",
       " <function __main__.open_(a)>: 0.99675,\n",
       " <function __main__.close_(a)>: 0.9969722222222223}"
      ]
     },
     "execution_count": 66,
     "metadata": {},
     "output_type": "execute_result"
    }
   ],
   "source": [
    "score"
   ]
  },
  {
   "cell_type": "markdown",
   "metadata": {},
   "source": [
    "Видим, что лучше использовать дилатацию. "
   ]
  },
  {
   "cell_type": "code",
   "execution_count": 67,
   "metadata": {},
   "outputs": [],
   "source": [
    "del X_val_morfologic_transformed\n",
    "del X_val_new\n",
    "del X_val_gauss_filted \n",
    "del X_val_shifted_2\n",
    "del X_val_shifted\n",
    "del X_val_rotated\n",
    "del X_val"
   ]
  },
  {
   "cell_type": "markdown",
   "metadata": {},
   "source": [
    "Применим полученные преобразования ко всей обучающей выборке. Для каждого преобразования будем находить ближайших соседей, а в конце из получившихся выберем ближайших."
   ]
  },
  {
   "cell_type": "markdown",
   "metadata": {},
   "source": [
    "Посмотрим, как изменится точность алгоритма. Вообще надо заново проводить кросс-валидацию для определения оптимальных гиперпараметров. Но для экономии времени посмотрим, какой результат получится на оптимальных параметрах для исходной обучающей выборки."
   ]
  },
  {
   "cell_type": "code",
   "execution_count": 93,
   "metadata": {},
   "outputs": [],
   "source": [
    "alg = BatchedKNNClassifier(n_neighbors=4, algorithm='brute', metric='cosine', weights='distance')\n",
    "alg.fit(X_train, y_train)\n",
    "distances_train, indices_train = alg.kneighbors(X_test, return_distance=True)"
   ]
  },
  {
   "cell_type": "code",
   "execution_count": 95,
   "metadata": {},
   "outputs": [],
   "source": [
    "X_train_rotated = np.apply_along_axis(transform_, 1, X_train)\n",
    "alg = BatchedKNNClassifier(n_neighbors=4, algorithm='brute', metric='cosine', weights='distance')\n",
    "alg.fit(X_train_rotated, y_train)\n",
    "distances_train_rotated, indices_train_rotated = alg.kneighbors(X_test, return_distance=True)\n",
    "del X_train_rotated"
   ]
  },
  {
   "cell_type": "code",
   "execution_count": 97,
   "metadata": {},
   "outputs": [],
   "source": [
    "X_train_shifted = np.apply_along_axis(shift_, 1, X_train) \n",
    "alg = BatchedKNNClassifier(n_neighbors=4, algorithm='brute', metric='cosine', weights='distance')\n",
    "alg.fit(X_train_shifted, y_train)\n",
    "distances_train_shifted, indices_train_shifted = alg.kneighbors(X_test, return_distance=True)\n",
    "del X_train_shifted"
   ]
  },
  {
   "cell_type": "code",
   "execution_count": 99,
   "metadata": {},
   "outputs": [],
   "source": [
    "X_train_shifted_2 = np.apply_along_axis(shift_2, 1, X_train) \n",
    "alg = BatchedKNNClassifier(n_neighbors=4, algorithm='brute', metric='cosine', weights='distance')\n",
    "alg.fit(X_train_shifted_2, y_train)\n",
    "distances_train_shifted_2, indices_train_shifted_2 = alg.kneighbors(X_test, return_distance=True)\n",
    "del X_train_shifted_2"
   ]
  },
  {
   "cell_type": "code",
   "execution_count": 103,
   "metadata": {},
   "outputs": [],
   "source": [
    "X_train_gauss_filted = np.apply_along_axis(gauss_filt, 1, X_train) \n",
    "alg = BatchedKNNClassifier(n_neighbors=4, algorithm='brute', metric='cosine', weights='distance')\n",
    "alg.fit(X_train_gauss_filted, y_train)\n",
    "distances_train_gauss_filted, indices_train_gauss_filted = alg.kneighbors(X_test, return_distance=True)\n",
    "del X_train_gauss_filted"
   ]
  },
  {
   "cell_type": "code",
   "execution_count": 104,
   "metadata": {},
   "outputs": [],
   "source": [
    "X_train_dilated = np.apply_along_axis(dilate_, 1, X_train) \n",
    "alg = BatchedKNNClassifier(n_neighbors=4, algorithm='brute', metric='cosine', weights='distance')\n",
    "alg.fit(X_train_dilated, y_train)\n",
    "distances_train_dilated, indices_train_dilated = alg.kneighbors(X_test, return_distance=True)\n",
    "del X_train_dilated"
   ]
  },
  {
   "cell_type": "code",
   "execution_count": 136,
   "metadata": {},
   "outputs": [],
   "source": [
    "def collect_kneighbors_from_batches(dist_batches, ind_batches):\n",
    "    Dist = np.hstack(dist_batches)\n",
    "    Indices = np.hstack(ind_batches)\n",
    "    indices_of_the_best = np.argpartition(Dist, 4, axis=1)[:, :4]\n",
    "    ranks_top = np.take_along_axis(Dist, indices_of_the_best, axis=1) \n",
    "    \n",
    "    indices_top = ranks_top.argsort(axis=1)\n",
    "    indices_of_the_best = np.take_along_axis(indices_of_the_best, indices_top, axis=1)\n",
    "    \n",
    "    distances = np.take_along_axis(Dist, indices_of_the_best, axis=1)  \n",
    "    indices = np.take_along_axis(Indices, indices_of_the_best, axis=1)\n",
    "    return distances, indices"
   ]
  },
  {
   "cell_type": "code",
   "execution_count": 137,
   "metadata": {},
   "outputs": [],
   "source": [
    "dist = [distances_train, distances_train_rotated, distances_train_shifted, distances_train_shifted_2, \n",
    "        distances_train_gauss_filted, distances_train_dilated]\n",
    "ind = [indices_train, indices_train_rotated, indices_train_shifted, indices_train_shifted_2, \n",
    "        indices_train_gauss_filted, indices_train_dilated]"
   ]
  },
  {
   "cell_type": "code",
   "execution_count": 138,
   "metadata": {},
   "outputs": [],
   "source": [
    "distances_train_midified, indices_train_midified = collect_kneighbors_from_batches(dist, ind)"
   ]
  },
  {
   "cell_type": "code",
   "execution_count": 156,
   "metadata": {},
   "outputs": [],
   "source": [
    "y_test_pred_modified = alg._predict_precomputed(indices_train_midified, distances_train_midified)"
   ]
  },
  {
   "cell_type": "code",
   "execution_count": 158,
   "metadata": {},
   "outputs": [
    {
     "name": "stdout",
     "output_type": "stream",
     "text": [
      "accuracy test for midified train:  0.9835\n"
     ]
    }
   ],
   "source": [
    "print(\"accuracy test for midified train: \", accuracy_score(y_test_pred_modified, y_test))"
   ]
  },
  {
   "cell_type": "code",
   "execution_count": 160,
   "metadata": {},
   "outputs": [
    {
     "name": "stdout",
     "output_type": "stream",
     "text": [
      "accuracy test for basic train: 0.9752\n"
     ]
    }
   ],
   "source": [
    "print(\"accuracy test for basic train:\", accuracy_score(y_test_pred, y_test))"
   ]
  },
  {
   "cell_type": "markdown",
   "metadata": {},
   "source": [
    "Видим, что качество улучшилось"
   ]
  },
  {
   "cell_type": "markdown",
   "metadata": {},
   "source": [
    "Посмотрим, как изменилась матрица ошибок"
   ]
  },
  {
   "cell_type": "code",
   "execution_count": 164,
   "metadata": {},
   "outputs": [
    {
     "name": "stdout",
     "output_type": "stream",
     "text": [
      "confusion_matrix for modified train\n"
     ]
    },
    {
     "data": {
      "text/plain": [
       "array([[ 978,    0,    0,    0,    0,    0,    1,    1,    0,    0],\n",
       "       [   0, 1131,    3,    0,    0,    0,    1,    0,    0,    0],\n",
       "       [   4,    1, 1012,    1,    1,    0,    2,    9,    2,    0],\n",
       "       [   0,    0,    1,  991,    1,    6,    0,    4,    4,    3],\n",
       "       [   0,    0,    0,    0,  961,    0,    4,    2,    2,   13],\n",
       "       [   2,    1,    0,    7,    1,  873,    4,    1,    1,    2],\n",
       "       [   4,    2,    0,    0,    2,    2,  948,    0,    0,    0],\n",
       "       [   0,   11,    4,    2,    1,    0,    0, 1005,    0,    5],\n",
       "       [   2,    0,    2,    6,    2,    3,    4,    4,  949,    2],\n",
       "       [   1,    3,    0,    3,    4,    1,    1,    5,    4,  987]],\n",
       "      dtype=int64)"
      ]
     },
     "execution_count": 164,
     "metadata": {},
     "output_type": "execute_result"
    }
   ],
   "source": [
    "print(\"confusion_matrix for modified train\")\n",
    "confusion_matrix(y_test, y_test_pred_modified)"
   ]
  },
  {
   "cell_type": "code",
   "execution_count": 165,
   "metadata": {},
   "outputs": [
    {
     "name": "stdout",
     "output_type": "stream",
     "text": [
      "confusion_matrix for basic train\n"
     ]
    },
    {
     "data": {
      "text/plain": [
       "array([[ 977,    1,    0,    0,    0,    0,    1,    1,    0,    0],\n",
       "       [   0, 1129,    3,    1,    0,    0,    2,    0,    0,    0],\n",
       "       [   8,    0, 1009,    1,    1,    0,    0,    8,    5,    0],\n",
       "       [   0,    1,    3,  976,    1,   12,    0,    4,    9,    4],\n",
       "       [   2,    1,    0,    0,  946,    0,    6,    2,    0,   25],\n",
       "       [   4,    0,    0,    9,    1,  863,    7,    1,    4,    3],\n",
       "       [   3,    3,    0,    0,    1,    3,  948,    0,    0,    0],\n",
       "       [   2,   10,    4,    0,    1,    0,    0,  998,    0,   13],\n",
       "       [   7,    1,    2,    9,    3,    3,    5,    4,  936,    4],\n",
       "       [   7,    7,    2,    5,    7,    3,    1,    4,    3,  970]],\n",
       "      dtype=int64)"
      ]
     },
     "execution_count": 165,
     "metadata": {},
     "output_type": "execute_result"
    }
   ],
   "source": [
    "print(\"confusion_matrix for basic train\")\n",
    "confusion_matrix(y_test, y_test_pred)"
   ]
  },
  {
   "cell_type": "markdown",
   "metadata": {},
   "source": [
    "Раньше алгоритм чаще всего путал 4 с 9. Половины таких ошибок удалось избежать. Ранее я приводил пример объекта, на котором алгоритм допускал эту ошибку."
   ]
  },
  {
   "cell_type": "code",
   "execution_count": 168,
   "metadata": {},
   "outputs": [
    {
     "data": {
      "image/png": "[encoded data removed]",
      "text/plain": [
       "<Figure size 432x288 with 1 Axes>"
      ]
     },
     "metadata": {
      "needs_background": "light"
     },
     "output_type": "display_data"
    }
   ],
   "source": [
    "plt.imshow(X_test[447].reshape(28,28), cmap='gray_r')\n",
    "plt.show()"
   ]
  },
  {
   "cell_type": "markdown",
   "metadata": {},
   "source": [
    "Эту четвёрку алгоритм считал девяткой "
   ]
  },
  {
   "cell_type": "code",
   "execution_count": 175,
   "metadata": {},
   "outputs": [
    {
     "data": {
      "text/plain": [
       "(array([0, 0, 0, 0, 0, 0, 0, 0, 0, 0, 0, 0, 0, 0, 0, 0, 0, 0, 0, 0, 0, 0,\n",
       "        0, 0, 0], dtype=int64),\n",
       " array([ 115,  447,  707,  740,  881, 1178, 1242, 1422, 1778, 1865, 2130,\n",
       "        2447, 2771, 2901, 3405, 3490, 4017, 4194, 4860, 4911, 5936, 8061,\n",
       "        8520, 8527, 9211], dtype=int64))"
      ]
     },
     "execution_count": 175,
     "metadata": {},
     "output_type": "execute_result"
    }
   ],
   "source": [
    "np.where([(y_test == 4) & (y_test_pred == 9)])"
   ]
  },
  {
   "cell_type": "markdown",
   "metadata": {},
   "source": [
    "Можем наблюдать, что теперь алгоритм правильно отгадал эту четвёрку: этого объекта нет среди таких ошибок. Вероятнее всего, этого удалось избежать с помощью дилатации"
   ]
  },
  {
   "cell_type": "code",
   "execution_count": 166,
   "metadata": {},
   "outputs": [
    {
     "data": {
      "text/plain": [
       "(array([0, 0, 0, 0, 0, 0, 0, 0, 0, 0, 0, 0, 0, 0, 0, 0, 0, 0, 0, 0, 0, 0,\n",
       "        0, 0, 0], dtype=int64),\n",
       " array([ 115,  447,  707,  740,  881, 1178, 1242, 1422, 1778, 1865, 2130,\n",
       "        2447, 2771, 2901, 3405, 3490, 4017, 4194, 4860, 4911, 5936, 8061,\n",
       "        8520, 8527, 9211], dtype=int64))"
      ]
     },
     "execution_count": 166,
     "metadata": {},
     "output_type": "execute_result"
    }
   ],
   "source": [
    "np.where([(y_test == 4) & (y_test_pred_modified == 9)])"
   ]
  },
  {
   "cell_type": "markdown",
   "metadata": {},
   "source": [
    "Также раньше алгоритм часто путал 3 с 5. В половине случаев этого удалось избежать. Ранее я приводил пример объекта, на котором алгоритм допускал эту ошибку."
   ]
  },
  {
   "cell_type": "code",
   "execution_count": 176,
   "metadata": {},
   "outputs": [
    {
     "data": {
      "image/png": "[encoded data removed]",
      "text/plain": [
       "<Figure size 432x288 with 1 Axes>"
      ]
     },
     "metadata": {
      "needs_background": "light"
     },
     "output_type": "display_data"
    }
   ],
   "source": [
    "plt.imshow(X_test[2953].reshape(28,28), cmap='gray_r')\n",
    "plt.show()"
   ]
  },
  {
   "cell_type": "markdown",
   "metadata": {},
   "source": [
    "Эту тройку алгоритм считал пятёркой"
   ]
  },
  {
   "cell_type": "code",
   "execution_count": 173,
   "metadata": {},
   "outputs": [
    {
     "data": {
      "text/plain": [
       "(array([0, 0, 0, 0, 0, 0, 0, 0, 0, 0, 0, 0], dtype=int64),\n",
       " array([ 938,  957, 1290, 2408, 2952, 2953, 4740, 6011, 6045, 6059, 8277,\n",
       "        8290], dtype=int64))"
      ]
     },
     "execution_count": 173,
     "metadata": {},
     "output_type": "execute_result"
    }
   ],
   "source": [
    "np.where([(y_test == 3) & (y_test_pred == 5)])"
   ]
  },
  {
   "cell_type": "markdown",
   "metadata": {},
   "source": [
    "Можем наблюдать, что теперь алгоритм правильно отгадал эту тройку: этого объекта нет среди таких ошибок. Вероятнее всего, этого удалось избежать с помощью поворота по часовой стрелке"
   ]
  },
  {
   "cell_type": "code",
   "execution_count": 174,
   "metadata": {},
   "outputs": [
    {
     "data": {
      "text/plain": [
       "(array([0, 0, 0, 0, 0, 0], dtype=int64),\n",
       " array([2952, 4740, 5841, 6011, 6059, 8277], dtype=int64))"
      ]
     },
     "execution_count": 174,
     "metadata": {},
     "output_type": "execute_result"
    }
   ],
   "source": [
    "np.where([(y_test == 3) & (y_test_pred_modified == 5)])"
   ]
  },
  {
   "cell_type": "markdown",
   "metadata": {},
   "source": [
    "Ещё новый алгоритм стал реже считать семёрки девятками"
   ]
  },
  {
   "cell_type": "code",
   "execution_count": 179,
   "metadata": {},
   "outputs": [
    {
     "data": {
      "text/plain": [
       "(array([0, 0, 0, 0, 0, 0, 0, 0, 0, 0, 0, 0, 0], dtype=int64),\n",
       " array([1522, 1721, 3333, 4199, 4578, 4690, 5600, 5620, 5655, 5714, 5835,\n",
       "        5887, 5906], dtype=int64))"
      ]
     },
     "execution_count": 179,
     "metadata": {},
     "output_type": "execute_result"
    }
   ],
   "source": [
    "np.where([(y_test == 7) & (y_test_pred == 9)])"
   ]
  },
  {
   "cell_type": "markdown",
   "metadata": {},
   "source": [
    "Например, ранее алгоритм эту семёрку считал девяткой"
   ]
  },
  {
   "cell_type": "code",
   "execution_count": 180,
   "metadata": {},
   "outputs": [
    {
     "data": {
      "image/png": "[encoded data removed]",
      "text/plain": [
       "<Figure size 432x288 with 1 Axes>"
      ]
     },
     "metadata": {
      "needs_background": "light"
     },
     "output_type": "display_data"
    }
   ],
   "source": [
    "plt.imshow(X_test[1522].reshape(28,28), cmap='gray_r')\n",
    "plt.show()"
   ]
  },
  {
   "cell_type": "markdown",
   "metadata": {},
   "source": [
    "А теперь алгоритм правильно классифицировал семёрку. Этого удалось добиться, вероятно, за счёт поворота по часовой стрелке"
   ]
  },
  {
   "cell_type": "code",
   "execution_count": 178,
   "metadata": {},
   "outputs": [
    {
     "data": {
      "text/plain": [
       "(array([0, 0, 0, 0, 0], dtype=int64),\n",
       " array([3333, 4007, 5835, 5887, 5906], dtype=int64))"
      ]
     },
     "execution_count": 178,
     "metadata": {},
     "output_type": "execute_result"
    }
   ],
   "source": [
    "np.where([(y_test == 7) & (y_test_pred_modified == 9)])"
   ]
  },
  {
   "cell_type": "markdown",
   "metadata": {},
   "source": [
    "В итоге, алгоритм стал работать значительно лучше. Матрица ошибок стала более диагональной. Причём этого удалось добиться, даже заново не производя кросс-валидацию для выбора оптимального $k$."
   ]
  },
  {
   "cell_type": "markdown",
   "metadata": {},
   "source": [
    "## Бонус 2. Размножение тестовой выборки (2 балла)\n",
    "\n",
    "Реализуйте предложенный на семинаре алгоритм, основанный на преобразовании объектов тестовой выборки.\n",
    "Проверьте то же самое множество параметров, что и в предыдущем пункте.\n",
    "\n",
    "Проанализируйте как изменилась матрица ошибок, какие ошибки алгоритма помогает исправить каждое\n",
    "преобразование."
   ]
  },
  {
   "cell_type": "code",
   "execution_count": null,
   "metadata": {},
   "outputs": [],
   "source": [
    "## your code here ##"
   ]
  },
  {
   "cell_type": "markdown",
   "metadata": {},
   "source": [
    "## Бонус 3. Сравнение подходов (1 балл)\n",
    "\n",
    "Если вы реализовали оба подхода, сравните их между собой.\n",
    "\n",
    "1. Какой подход даёт больший выигрыш в качестве и почему?\n",
    "\n",
    "    *ваш ответ*\n",
    "    \n",
    "\n",
    "2. Есть ли какие-то преимущества у худшего по качеству подхода по сравнению с лучшим?\n",
    "\n",
    "    *ваш ответ*"
   ]
  },
  {
   "cell_type": "code",
   "execution_count": 283,
   "metadata": {},
   "outputs": [],
   "source": [
    "#осталось применить все преобразования, получить результаты и нарисовать матрицу"
   ]
  }
 ],
 "metadata": {
  "kernelspec": {
   "display_name": "Python 3 (ipykernel)",
   "language": "python",
   "name": "python3"
  },
  "language_info": {
   "codemirror_mode": {
    "name": "ipython",
    "version": 3
   },
   "file_extension": ".py",
   "mimetype": "text/x-python",
   "name": "python",
   "nbconvert_exporter": "python",
   "pygments_lexer": "ipython3",
   "version": "3.9.7"
  }
 },
 "nbformat": 4,
 "nbformat_minor": 4
}
